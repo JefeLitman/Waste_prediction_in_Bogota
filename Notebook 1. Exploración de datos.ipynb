{
 "cells": [
  {
   "cell_type": "markdown",
   "metadata": {},
   "source": [
    "## Exploración y Visualización de los datos"
   ]
  },
  {
   "cell_type": "code",
   "execution_count": null,
   "metadata": {},
   "outputs": [],
   "source": [
    "from utils import func_tools\n",
    "import importlib\n",
    "import numpy as np\n",
    "import pandas as pd\n",
    "import matplotlib.pyplot as plt\n",
    "from bokeh.io import output_notebook,show\n",
    "import holoviews as hv\n",
    "hv.extension('bokeh')\n",
    "output_notebook()\n",
    "importlib.reload(func_tools);"
   ]
  },
  {
   "cell_type": "markdown",
   "metadata": {},
   "source": [
    "### Cargar los respectivos datos"
   ]
  },
  {
   "cell_type": "code",
   "execution_count": null,
   "metadata": {},
   "outputs": [],
   "source": [
    "estra = pd.read_csv('estratificacion.csv',delimiter=',', index_col='ID')\n",
    "data_csv_zona = pd.read_csv('residuosrecogidos_zona_ori.csv', delimiter=',')\n",
    "data_csv_localidad = pd.read_csv('residuosrecogidos_localidad_ori.csv', delimiter=',')"
   ]
  },
  {
   "cell_type": "markdown",
   "metadata": {},
   "source": [
    "### Llenar valores faltante o espacios nulos"
   ]
  },
  {
   "cell_type": "code",
   "execution_count": null,
   "metadata": {},
   "outputs": [],
   "source": [
    "data_csv_zona = func_tools.fillna_col_anterior(data_csv_zona)\n",
    "data_csv_localidad = func_tools.fillna_2013(data_csv_localidad, estra, data_csv_zona )"
   ]
  },
  {
   "cell_type": "markdown",
   "metadata": {},
   "source": [
    "## Visualización de los residuos recogidos anualmente por zonas"
   ]
  },
  {
   "cell_type": "code",
   "execution_count": null,
   "metadata": {},
   "outputs": [],
   "source": [
    "p, data_series = func_tools.plot_series_zona([estra,data_csv_zona], metodo='dinamico')"
   ]
  },
  {
   "cell_type": "markdown",
   "metadata": {},
   "source": [
    "## Visualización de los residuos recogidos anualmente por localidad, mes y año"
   ]
  },
  {
   "cell_type": "code",
   "execution_count": null,
   "metadata": {},
   "outputs": [],
   "source": [
    "%%opts Curve [width=350 height=250] {+framewise}\n",
    "ds = func_tools.plot_series_localidad(data_csv_localidad, estra)\n",
    "(ds.to(hv.Curve, 'AÑO', 'Enero')(plot=dict(show_grid=True)) + \n",
    "     ds.to(hv.Curve, 'AÑO', 'Febrero')(plot=dict(show_grid=True)) +\n",
    "     ds.to(hv.Curve, 'AÑO', 'Marzo')(plot=dict(show_grid=True)) +\n",
    "     ds.to(hv.Curve, 'AÑO', 'Abril')(plot=dict(show_grid=True)) +\n",
    "     ds.to(hv.Curve, 'AÑO', 'Mayo')(plot=dict(show_grid=True)) +\n",
    "     ds.to(hv.Curve, 'AÑO', 'Junio')(plot=dict(show_grid=True)) +\n",
    "     ds.to(hv.Curve, 'AÑO', 'Julio')(plot=dict(show_grid=True)) +\n",
    "     ds.to(hv.Curve, 'AÑO', 'Agosto')(plot=dict(show_grid=True)) +\n",
    "     ds.to(hv.Curve, 'AÑO', 'Septiembre')(plot=dict(show_grid=True)) +\n",
    "     ds.to(hv.Curve, 'AÑO', 'Octubre')(plot=dict(show_grid=True)) +\n",
    "     ds.to(hv.Curve, 'AÑO', 'Noviembre')(plot=dict(show_grid=True)) +\n",
    "     ds.to(hv.Curve, 'AÑO', 'Diciembre')(plot=dict(show_grid=True))).cols(2)"
   ]
  },
  {
   "cell_type": "markdown",
   "metadata": {},
   "source": [
    "## Visualización de la participación de la localidad sobre los totales de residuos recogidos por zona y año"
   ]
  },
  {
   "cell_type": "code",
   "execution_count": null,
   "metadata": {
    "scrolled": false
   },
   "outputs": [],
   "source": [
    "p2 = func_tools.plot_participacion_localidad([estra,data_csv_localidad,data_csv_zona], metodo='dinamico')"
   ]
  },
  {
   "cell_type": "markdown",
   "metadata": {},
   "source": [
    "## Visualización del cambio anual en la población y desecho de residuos por localidad"
   ]
  },
  {
   "cell_type": "code",
   "execution_count": null,
   "metadata": {
    "scrolled": false
   },
   "outputs": [],
   "source": [
    "datos = func_tools.plot_localidades_crecimiento(estra,data_csv_localidad,tipo='dinamico')"
   ]
  },
  {
   "cell_type": "code",
   "execution_count": null,
   "metadata": {},
   "outputs": [],
   "source": [
    "%%opts Scatter [height=500 width=350 size_index=3 scaling_factor=1/50 tools=['hover']]\n",
    "%%opts RGB [height=500 width=350]\n",
    "scatter = hv.Scatter(datos, \n",
    "                     kdims=['Longitud', 'Latitud'],\n",
    "                     vdims=['MES','AÑO','Población anual','Residuos generados','Nombre localidad']\n",
    "                    ).groupby(['MES','AÑO'])(plot=dict(show_grid=True))\n",
    "map_ = hv.RGB.load_image('map.png')\n",
    "scatter + map_"
   ]
  },
  {
   "cell_type": "markdown",
   "metadata": {},
   "source": [
    "## Residuos per cápita - Localidades (RPC kg/dia)"
   ]
  },
  {
   "cell_type": "code",
   "execution_count": null,
   "metadata": {},
   "outputs": [],
   "source": [
    "datos_rpc = func_tools.plot_localidades_crecimiento_rpc(estra,data_csv_localidad)"
   ]
  },
  {
   "cell_type": "code",
   "execution_count": null,
   "metadata": {},
   "outputs": [],
   "source": [
    "%%opts Scatter [height=250 width=650 tools=['hover']]\n",
    "%%opts Scatter (color='k' size=8)\n",
    "scatter = hv.Scatter(datos_rpc, \n",
    "                     kdims=['MES', 'RPC kg/día'],\n",
    "                     vdims=['AÑO','Nombre localidad']\n",
    "                    ).groupby(['Nombre localidad','AÑO'])(plot=dict(show_grid=True))\n",
    "scatter"
   ]
  }
 ],
 "metadata": {
  "kernelspec": {
   "display_name": "Python 3",
   "language": "python",
   "name": "python3"
  },
  "language_info": {
   "codemirror_mode": {
    "name": "ipython",
    "version": 3
   },
   "file_extension": ".py",
   "mimetype": "text/x-python",
   "name": "python",
   "nbconvert_exporter": "python",
   "pygments_lexer": "ipython3",
   "version": "3.6.5"
  }
 },
 "nbformat": 4,
 "nbformat_minor": 2
}
